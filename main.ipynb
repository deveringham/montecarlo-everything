{
 "cells": [
  {
   "cell_type": "code",
   "execution_count": 1,
   "id": "54be2971",
   "metadata": {},
   "outputs": [],
   "source": [
    "import numpy as np\n",
    "from montecarlo import *"
   ]
  },
  {
   "cell_type": "code",
   "execution_count": null,
   "id": "7ec69c90",
   "metadata": {},
   "outputs": [],
   "source": [
    "# Configuration variables\n",
    "n = 1000"
   ]
  },
  {
   "cell_type": "code",
   "execution_count": 2,
   "id": "82d1a898",
   "metadata": {},
   "outputs": [
    {
     "name": "stdout",
     "output_type": "stream",
     "text": [
      "3.12\n"
     ]
    }
   ],
   "source": [
    "# Use Monte Carlo Method to estimate the value of pi\n",
    "domain = np.array([[0,1],[0,1]])\n",
    "aggregate_func = lambda samples : 4 * np.count_nonzero(np.linalg.norm(samples, axis=1) <= 1) / n\n",
    "mc = MonteCarlo(domain=domain, aggregate_func=aggregate_func)\n",
    "result = mc.simulate(n)\n",
    "print(result)"
   ]
  }
 ],
 "metadata": {
  "kernelspec": {
   "display_name": "Python 3 (ipykernel)",
   "language": "python",
   "name": "python3"
  },
  "language_info": {
   "codemirror_mode": {
    "name": "ipython",
    "version": 3
   },
   "file_extension": ".py",
   "mimetype": "text/x-python",
   "name": "python",
   "nbconvert_exporter": "python",
   "pygments_lexer": "ipython3",
   "version": "3.10.12"
  }
 },
 "nbformat": 4,
 "nbformat_minor": 5
}
