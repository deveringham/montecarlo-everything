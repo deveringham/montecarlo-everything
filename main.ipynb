{
 "cells": [
  {
   "cell_type": "code",
   "execution_count": 1,
   "id": "cd283123",
   "metadata": {},
   "outputs": [],
   "source": [
    "import numpy as np\n",
    "from montecarlo import *"
   ]
  },
  {
   "cell_type": "code",
   "execution_count": 2,
   "id": "98997e05",
   "metadata": {},
   "outputs": [],
   "source": [
    "# Configuration variables\n",
    "n = 1000"
   ]
  },
  {
   "cell_type": "code",
   "execution_count": 3,
   "id": "50c6323f",
   "metadata": {},
   "outputs": [
    {
     "name": "stdout",
     "output_type": "stream",
     "text": [
      "3.204\n"
     ]
    }
   ],
   "source": [
    "# Use Monte Carlo Method to estimate the value of pi\n",
    "domain = np.array([[0,1],[0,1]])\n",
    "aggregate_func = lambda samples : 4 * np.count_nonzero(np.linalg.norm(samples, axis=1) <= 1) / n\n",
    "mc = MonteCarlo(domain=domain, aggregate_func=aggregate_func)\n",
    "result = mc.simulate(n)\n",
    "print(result)"
   ]
  },
  {
   "cell_type": "code",
   "execution_count": 9,
   "id": "04cf12e3",
   "metadata": {},
   "outputs": [
    {
     "name": "stdout",
     "output_type": "stream",
     "text": [
      "[[1 7]]\n",
      "0.19\n"
     ]
    }
   ],
   "source": [
    "# Estimate the liklihood of winning a simple dice game\n",
    "# In this game, a player rolls d dice each with s sides and sums the results\n",
    "# The player wins if the sum is at least g\n",
    "d = 1\n",
    "s = 6\n",
    "g = 6\n",
    "domain = np.tile(np.array([1,s+1]),(d,1))\n",
    "aggregate_func = lambda samples : np.count_nonzero(np.sum(np.floor(samples), axis=1) >= g) / n\n",
    "mc = MonteCarlo(domain=domain, aggregate_func=aggregate_func)\n",
    "result = mc.simulate(n)\n",
    "print(result)"
   ]
  },
  {
   "cell_type": "code",
   "execution_count": null,
   "id": "b7e3b1d2",
   "metadata": {},
   "outputs": [],
   "source": []
  }
 ],
 "metadata": {
  "kernelspec": {
   "display_name": "Python 3 (ipykernel)",
   "language": "python",
   "name": "python3"
  },
  "language_info": {
   "codemirror_mode": {
    "name": "ipython",
    "version": 3
   },
   "file_extension": ".py",
   "mimetype": "text/x-python",
   "name": "python",
   "nbconvert_exporter": "python",
   "pygments_lexer": "ipython3",
   "version": "3.10.12"
  }
 },
 "nbformat": 4,
 "nbformat_minor": 5
}
